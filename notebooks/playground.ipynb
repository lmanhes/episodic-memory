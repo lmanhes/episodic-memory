{
 "cells": [
  {
   "cell_type": "code",
   "execution_count": 1,
   "metadata": {},
   "outputs": [],
   "source": [
    "import os, sys\n",
    "sys.path.append('..')\n",
    "import numpy as np\n",
    "import random\n",
    "import matplotlib.pyplot as plt\n",
    "import networkx as nx\n",
    "\n",
    "from memory.episodic import EpisodicMemory"
   ]
  },
  {
   "cell_type": "code",
   "execution_count": 2,
   "metadata": {},
   "outputs": [],
   "source": [
    "max_size = 10000\n",
    "sim_threshold = 31\n",
    "vector_dim = 200\n",
    "stability_start = 1000"
   ]
  },
  {
   "cell_type": "code",
   "execution_count": 3,
   "metadata": {},
   "outputs": [],
   "source": [
    "memory = EpisodicMemory(base_path='model_files',\n",
    "                      max_size=max_size,\n",
    "                      index_sim_threshold=sim_threshold,\n",
    "                      vector_dim=vector_dim,\n",
    "                      stability_start=stability_start)"
   ]
  },
  {
   "cell_type": "code",
   "execution_count": 4,
   "metadata": {},
   "outputs": [],
   "source": [
    "state_m1 = np.random.random((200,))\n",
    "action_m1 = random.choice([\"up\", \"down\", \"left\", \"right\"])"
   ]
  },
  {
   "cell_type": "code",
   "execution_count": 5,
   "metadata": {
    "scrolled": true
   },
   "outputs": [
    {
     "name": "stdout",
     "output_type": "stream",
     "text": [
      "states : 2\ttransitions : 1\tforgeted states : 0\n",
      "states : 3\ttransitions : 2\tforgeted states : 0\n",
      "states : 4\ttransitions : 3\tforgeted states : 0\n",
      "states : 5\ttransitions : 4\tforgeted states : 0\n",
      "states : 6\ttransitions : 5\tforgeted states : 0\n",
      "states : 7\ttransitions : 6\tforgeted states : 0\n",
      "states : 7\ttransitions : 7\tforgeted states : 0\n",
      "states : 8\ttransitions : 8\tforgeted states : 0\n",
      "states : 9\ttransitions : 9\tforgeted states : 0\n",
      "states : 9\ttransitions : 10\tforgeted states : 0\n"
     ]
    }
   ],
   "source": [
    "for it in range(10):\n",
    "    state = np.random.random((200,))\n",
    "    memory.update(state_m1, action_m1, state)\n",
    "    state_m1 = state\n",
    "    action_m1 = random.choice([\"up\", \"down\", \"left\", \"right\"])\n",
    "    print(f\"states : {memory.n_states}\\ttransitions : {memory.n_transitions}\\tforgeted states : {memory.forgeted}\")"
   ]
  },
  {
   "cell_type": "code",
   "execution_count": 6,
   "metadata": {},
   "outputs": [
    {
     "data": {
      "text/plain": [
       "9"
      ]
     },
     "execution_count": 6,
     "metadata": {},
     "output_type": "execute_result"
    }
   ],
   "source": [
    "memory.n_states"
   ]
  },
  {
   "cell_type": "code",
   "execution_count": 7,
   "metadata": {},
   "outputs": [
    {
     "data": {
      "text/plain": [
       "10"
      ]
     },
     "execution_count": 7,
     "metadata": {},
     "output_type": "execute_result"
    }
   ],
   "source": [
    "memory.n_transitions"
   ]
  },
  {
   "cell_type": "code",
   "execution_count": 8,
   "metadata": {},
   "outputs": [
    {
     "data": {
      "image/png": "[encoded data removed]",
      "text/plain": [
       "<Figure size 432x288 with 1 Axes>"
      ]
     },
     "metadata": {},
     "output_type": "display_data"
    }
   ],
   "source": [
    "nx.draw_networkx(memory.tree_memory.graph, pos=nx.circular_layout(memory.tree_memory.graph))"
   ]
  },
  {
   "cell_type": "code",
   "execution_count": 9,
   "metadata": {},
   "outputs": [
    {
     "data": {
      "text/plain": [
       "[[(4013, 7235, 'left'), (7235, 7873, 'left')],\n",
       " [(5688, 4013, 'right'), (4013, 7235, 'left')],\n",
       " [(7873, 4013, 'left'), (4013, 7235, 'left')],\n",
       " [(896, 4013, 'up'), (4013, 7854, 'right')],\n",
       " [(896, 4013, 'up'), (4013, 7235, 'left')],\n",
       " [(4255, 9532, 'left'), (9532, 896, 'down')],\n",
       " [(7235, 7873, 'left'), (7873, 4013, 'left')],\n",
       " [(5688, 4013, 'right'), (4013, 7854, 'right')],\n",
       " [(4013, 7854, 'right'), (7854, 5688, 'down')],\n",
       " [(7854, 5688, 'down'), (5688, 4013, 'right')],\n",
       " [(9532, 896, 'down'), (896, 4013, 'up')],\n",
       " [(1556, 4255, 'right'), (4255, 9532, 'left')],\n",
       " [(7873, 4013, 'left'), (4013, 7854, 'right')]]"
      ]
     },
     "execution_count": 9,
     "metadata": {},
     "output_type": "execute_result"
    }
   ],
   "source": [
    "memory.tree_memory.sample_trajectories(n=5, horizon=5)"
   ]
  },
  {
   "cell_type": "code",
   "execution_count": null,
   "metadata": {},
   "outputs": [],
   "source": []
  }
 ],
 "metadata": {
  "kernelspec": {
   "display_name": "pythia",
   "language": "python",
   "name": "pythia"
  },
  "language_info": {
   "codemirror_mode": {
    "name": "ipython",
    "version": 3
   },
   "file_extension": ".py",
   "mimetype": "text/x-python",
   "name": "python",
   "nbconvert_exporter": "python",
   "pygments_lexer": "ipython3",
   "version": "3.6.9"
  }
 },
 "nbformat": 4,
 "nbformat_minor": 4
}
