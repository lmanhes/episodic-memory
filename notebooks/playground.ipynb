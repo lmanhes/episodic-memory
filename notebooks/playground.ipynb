{
 "cells": [
  {
   "cell_type": "code",
   "execution_count": 1,
   "metadata": {},
   "outputs": [],
   "source": [
    "import os, sys\n",
    "sys.path.append('..')\n",
    "import numpy as np\n",
    "import random\n",
    "import matplotlib.pyplot as plt\n",
    "import networkx as nx\n",
    "\n",
    "from memory.episodic import EpisodicMemory"
   ]
  },
  {
   "cell_type": "code",
   "execution_count": 2,
   "metadata": {},
   "outputs": [],
   "source": [
    "max_size = 10000\n",
    "sim_threshold = 31\n",
    "vector_dim = 200\n",
    "stability_start = 1000"
   ]
  },
  {
   "cell_type": "code",
   "execution_count": 3,
   "metadata": {},
   "outputs": [],
   "source": [
    "memory = EpisodicMemory(base_path='model_files',\n",
    "                      max_size=max_size,\n",
    "                      index_sim_threshold=sim_threshold,\n",
    "                      vector_dim=vector_dim,\n",
    "                      stability_start=stability_start)"
   ]
  },
  {
   "cell_type": "code",
   "execution_count": 4,
   "metadata": {},
   "outputs": [],
   "source": [
    "state_m1 = np.random.random((200,))\n",
    "action_m1 = random.choice([\"up\", \"down\", \"left\", \"right\"])"
   ]
  },
  {
   "cell_type": "code",
   "execution_count": 5,
   "metadata": {
    "scrolled": true
   },
   "outputs": [
    {
     "name": "stdout",
     "output_type": "stream",
     "text": [
      "states : 2\ttransitions : 1\tforgeted states : 0\n",
      "states : 3\ttransitions : 2\tforgeted states : 0\n",
      "states : 3\ttransitions : 3\tforgeted states : 0\n",
      "states : 3\ttransitions : 3\tforgeted states : 0\n",
      "states : 3\ttransitions : 4\tforgeted states : 0\n",
      "states : 4\ttransitions : 5\tforgeted states : 0\n",
      "states : 5\ttransitions : 6\tforgeted states : 0\n",
      "states : 6\ttransitions : 7\tforgeted states : 0\n",
      "states : 6\ttransitions : 8\tforgeted states : 0\n",
      "states : 6\ttransitions : 9\tforgeted states : 0\n"
     ]
    }
   ],
   "source": [
    "for it in range(10):\n",
    "    state = np.random.random((200,))\n",
    "    memory.update(state_m1, action_m1, state)\n",
    "    state_m1 = state\n",
    "    action_m1 = random.choice([\"up\", \"down\", \"left\", \"right\"])\n",
    "    print(f\"states : {memory.n_states}\\ttransitions : {memory.n_transitions}\\tforgeted states : {memory.forgeted}\")"
   ]
  },
  {
   "cell_type": "code",
   "execution_count": 6,
   "metadata": {},
   "outputs": [
    {
     "data": {
      "text/plain": [
       "6"
      ]
     },
     "execution_count": 6,
     "metadata": {},
     "output_type": "execute_result"
    }
   ],
   "source": [
    "memory.n_states"
   ]
  },
  {
   "cell_type": "code",
   "execution_count": 7,
   "metadata": {},
   "outputs": [
    {
     "data": {
      "text/plain": [
       "9"
      ]
     },
     "execution_count": 7,
     "metadata": {},
     "output_type": "execute_result"
    }
   ],
   "source": [
    "memory.n_transitions"
   ]
  },
  {
   "cell_type": "code",
   "execution_count": 8,
   "metadata": {},
   "outputs": [
    {
     "data": {
      "image/png": "[encoded data removed]",
      "text/plain": [
       "<Figure size 432x288 with 1 Axes>"
      ]
     },
     "metadata": {},
     "output_type": "display_data"
    }
   ],
   "source": [
    "nx.draw_networkx(memory.tree_memory.graph, pos=nx.circular_layout(memory.tree_memory.graph))"
   ]
  },
  {
   "cell_type": "code",
   "execution_count": 11,
   "metadata": {},
   "outputs": [
    {
     "data": {
      "text/plain": [
       "[[(482, 482, 'right'), (482, 4511, 'down')],\n",
       " [(7348, 4682, 'right')],\n",
       " [(7348, 4682, 'left')],\n",
       " [(482, 482, 'right'), (482, 5462, 'down')]]"
      ]
     },
     "execution_count": 11,
     "metadata": {},
     "output_type": "execute_result"
    }
   ],
   "source": [
    "memory.tree_memory.sample_trajectories(n=4, horizon=3)"
   ]
  },
  {
   "cell_type": "code",
   "execution_count": null,
   "metadata": {},
   "outputs": [],
   "source": []
  }
 ],
 "metadata": {
  "kernelspec": {
   "display_name": "pythia",
   "language": "python",
   "name": "pythia"
  },
  "language_info": {
   "codemirror_mode": {
    "name": "ipython",
    "version": 3
   },
   "file_extension": ".py",
   "mimetype": "text/x-python",
   "name": "python",
   "nbconvert_exporter": "python",
   "pygments_lexer": "ipython3",
   "version": "3.6.9"
  }
 },
 "nbformat": 4,
 "nbformat_minor": 4
}
